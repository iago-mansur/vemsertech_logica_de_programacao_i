{
 "cells": [
  {
   "cell_type": "markdown",
   "metadata": {},
   "source": [
    "## Estrutura de repetição (while)\n",
    "\n",
    "Uma das utilidades de linguagens de programação é a de automatizar tarefas que são repetitivas.\n",
    "\n",
    "Mas, pra isso ser viável, seria bom se tivéssemos uma estrutura para **repetir comandos**, não é mesmo?\n",
    "\n",
    "Imagine que eu queira exibir na tela \"Olá, mundo!\" 5 vezes. Podemos fazer:"
   ]
  },
  {
   "cell_type": "code",
   "execution_count": 1,
   "metadata": {},
   "outputs": [
    {
     "name": "stdout",
     "output_type": "stream",
     "text": [
      "Olá Mundo\n",
      "Olá Mundo\n",
      "Olá Mundo\n",
      "Olá Mundo\n",
      "Olá Mundo\n"
     ]
    }
   ],
   "source": [
    "print('Olá Mundo')\n",
    "print('Olá Mundo')\n",
    "print('Olá Mundo')\n",
    "print('Olá Mundo')\n",
    "print('Olá Mundo')"
   ]
  },
  {
   "cell_type": "markdown",
   "metadata": {},
   "source": [
    "Mas, e se eu quiser exibir essa mensagem 1000 vezes? Ou 1 milhão de vezes? Não é ideal escrevermos o mesmo pedaço de código tantas vezes, né?\n",
    "\n",
    "Para isso, existem os **laços de repetição**, que permitem repetir pedaços de código quantas vezes desejarmos!\n",
    "\n",
    "O primeiro laço que vamos ver é o **while**. Este laço tem a seguinte estrutura:\n",
    "\n",
    "```python\n",
    "while (condicao é True):\n",
    "    operacao_repetida\n",
    "```\n",
    "\n",
    "Ou seja, o que tá no bloco do while é repetido **enquanto a condição for verdadeira**"
   ]
  },
  {
   "cell_type": "markdown",
   "metadata": {},
   "source": [
    "Isso pode levar a **loops infinitos**"
   ]
  },
  {
   "cell_type": "code",
   "execution_count": 2,
   "metadata": {
    "tags": []
   },
   "outputs": [
    {
     "name": "stdout",
     "output_type": "stream",
     "text": [
      "."
     ]
    }
   ],
   "source": [
    "# deve_processar = True\n",
    "\n",
    "# while(deve_processar):\n",
    "#     print('.', end='')\n",
    "#     # deve_processar = False"
   ]
  },
  {
   "cell_type": "markdown",
   "metadata": {},
   "source": [
    "Para que loops infinitos não aconteçam, temos que fazer uma **atualização da condição** a cada iteração do laço!\n",
    "\n",
    "Isso é, temos que **atualizar** a variavel que contabiliza as repetições no loop"
   ]
  },
  {
   "cell_type": "code",
   "execution_count": 3,
   "metadata": {},
   "outputs": [
    {
     "data": {
      "text/plain": [
       "False"
      ]
     },
     "execution_count": 3,
     "metadata": {},
     "output_type": "execute_result"
    }
   ],
   "source": [
    "bool('')"
   ]
  },
  {
   "cell_type": "code",
   "execution_count": 4,
   "metadata": {},
   "outputs": [
    {
     "data": {
      "text/plain": [
       "True"
      ]
     },
     "execution_count": 4,
     "metadata": {},
     "output_type": "execute_result"
    }
   ],
   "source": [
    "bool('False')"
   ]
  },
  {
   "cell_type": "code",
   "execution_count": 7,
   "metadata": {},
   "outputs": [
    {
     "name": "stdout",
     "output_type": "stream",
     "text": [
      "Log: Inicio\n",
      "."
     ]
    },
    {
     "name": "stdin",
     "output_type": "stream",
     "text": [
      "Continua pontinho? asdfasfd\n"
     ]
    },
    {
     "name": "stdout",
     "output_type": "stream",
     "text": [
      "."
     ]
    },
    {
     "name": "stdin",
     "output_type": "stream",
     "text": [
      "Continua pontinho? \n"
     ]
    },
    {
     "name": "stdout",
     "output_type": "stream",
     "text": [
      "Log: Fim\n"
     ]
    }
   ],
   "source": [
    "print('Log: Inicio')\n",
    "\n",
    "deve_processar = True\n",
    "\n",
    "while(deve_processar):\n",
    "    print('.', end='')\n",
    "    deve_processar = bool(input('Continua pontinho?'))\n",
    "\n",
    "print('Log: Fim')"
   ]
  },
  {
   "cell_type": "markdown",
   "metadata": {},
   "source": [
    "Assim, o que fazemos é **definir a condição do while em termos de uma variável que tenha seu valor atualizado!**\n",
    "\n",
    "Para isso, é comum nos referirmos à variàvel da condição como **variável contadora**.\n",
    "\n",
    "Para atualizar a variável contadora dentro do while, em geral a atualizamos em +1"
   ]
  },
  {
   "cell_type": "code",
   "execution_count": 11,
   "metadata": {},
   "outputs": [
    {
     "name": "stdout",
     "output_type": "stream",
     "text": [
      "Log: Inicio\n",
      "Olá Mundo\n",
      "Olá Mundo\n",
      "Olá Mundo\n",
      "Olá Mundo\n",
      "Olá Mundo\n",
      "Log: Fim\n"
     ]
    }
   ],
   "source": [
    "print('Log: Inicio')\n",
    "\n",
    "LIMITE_OLA_MUNDO = 5\n",
    "contador = 1\n",
    "deve_processar = contador <= LIMITE_OLA_MUNDO \n",
    "\n",
    "while(deve_processar):\n",
    "    print('Olá Mundo')\n",
    "\n",
    "    contador += 1\n",
    "    deve_processar = contador <= LIMITE_OLA_MUNDO\n",
    "\n",
    "print('Log: Fim')"
   ]
  },
  {
   "cell_type": "markdown",
   "metadata": {},
   "source": [
    "Vamos entender um pouco melhor como a variável contadora se comporta?\n",
    "\n",
    "Pra isso, basta exibi-la a cada iteração:"
   ]
  },
  {
   "cell_type": "code",
   "execution_count": 16,
   "metadata": {},
   "outputs": [
    {
     "name": "stdout",
     "output_type": "stream",
     "text": [
      "Log: Inicio\n",
      "1: Olá Mundo\n",
      "2: Olá Mundo\n",
      "3: Olá Mundo\n",
      "4: Olá Mundo\n",
      "5: Olá Mundo\n",
      "Log: Fim\n"
     ]
    }
   ],
   "source": [
    "print('Log: Inicio')\n",
    "\n",
    "LIMITE_OLA_MUNDO = 5\n",
    "contador = 1\n",
    "deve_processar = contador <= LIMITE_OLA_MUNDO \n",
    "\n",
    "while(deve_processar):\n",
    "    print(f'{contador}: Olá Mundo')\n",
    "\n",
    "    contador += 1\n",
    "    deve_processar = contador <= LIMITE_OLA_MUNDO\n",
    "\n",
    "print('Log: Fim')"
   ]
  },
  {
   "cell_type": "markdown",
   "metadata": {},
   "source": [
    "Usar a condição com < ao invés de != em geral garante maior segurança ao seu algoritmo, pois evita imprevistos caso você receba números do usuário!"
   ]
  },
  {
   "cell_type": "code",
   "execution_count": 1,
   "metadata": {},
   "outputs": [],
   "source": [
    "# print('Log: Inicio')\n",
    "\n",
    "# LIMITE_OLA_MUNDO = 6\n",
    "# contador = 1\n",
    "# deve_processar = contador != LIMITE_OLA_MUNDO \n",
    "\n",
    "# while(deve_processar):\n",
    "#     print(f'{contador}: Olá Mundo')\n",
    "\n",
    "#     contador += 2\n",
    "#     deve_processar = contador != LIMITE_OLA_MUNDO\n",
    "\n",
    "# print('Log: Fim')"
   ]
  },
  {
   "cell_type": "markdown",
   "metadata": {},
   "source": [
    "Podemos também atualizar a condição de repetição segundo informado pelo usuário\n",
    "\n",
    "Esse uso é bem importante para **garantir que o usuário digitou corretamente o que foi solicitado**\n",
    "\n",
    "Por exemplo, vamos pedir pro usuário digitar um número maior que 10. **Enquanto ele não fizer o que queremos**, vamos continuar pedindo pra ele digitar um novo valor:"
   ]
  },
  {
   "cell_type": "code",
   "execution_count": 4,
   "metadata": {},
   "outputs": [
    {
     "name": "stdout",
     "output_type": "stream",
     "text": [
      "Log: Inicio\n"
     ]
    },
    {
     "name": "stdin",
     "output_type": "stream",
     "text": [
      "Digite número maior que 10: 30\n"
     ]
    },
    {
     "name": "stdout",
     "output_type": "stream",
     "text": [
      "Numero Final: 30\n",
      "Log: Fim\n"
     ]
    }
   ],
   "source": [
    "print('Log: Inicio')\n",
    "\n",
    "LIMITE_MINIMO = 10\n",
    "\n",
    "numero_digitado = int(input('Digite número maior que 10:'))\n",
    "deve_digitar = numero_digitado <= LIMITE_MINIMO\n",
    "\n",
    "while(deve_digitar):\n",
    "    numero_digitado = int(input('Digite número maior que 10:'))\n",
    "    \n",
    "    deve_digitar = numero_digitado <= LIMITE_MINIMO\n",
    "\n",
    "print(f'Numero Final: {numero_digitado}')\n",
    "print('Log: Fim')"
   ]
  },
  {
   "cell_type": "markdown",
   "metadata": {},
   "source": [
    "#### Programa Entrada de senha\n",
    "- Defina uma senha\n",
    "- Pode errar até 3 vezes\n",
    "- Ao final mostrar se acertou a senha"
   ]
  },
  {
   "cell_type": "code",
   "execution_count": 10,
   "metadata": {},
   "outputs": [
    {
     "name": "stdout",
     "output_type": "stream",
     "text": [
      "Inicio\n"
     ]
    },
    {
     "name": "stdin",
     "output_type": "stream",
     "text": [
      "Digite senha: 12345\n"
     ]
    },
    {
     "name": "stdout",
     "output_type": "stream",
     "text": [
      "Acertou a senha\n",
      "Fim\n"
     ]
    }
   ],
   "source": [
    "print('Inicio')\n",
    "SENHA = '12345'\n",
    "QTDE_TENTATIVAS_MAX = 3\n",
    "\n",
    "contador_tentativas = 1\n",
    "senha_digitada = input('Digite senha:')\n",
    "\n",
    "pode_tentar_novamente = contador_tentativas < QTDE_TENTATIVAS_MAX\n",
    "senha_errada = senha_digitada != SENHA\n",
    "\n",
    "pode_digitar_senha = senha_errada and pode_tentar_novamente\n",
    "\n",
    "while(pode_digitar_senha):\n",
    "    senha_digitada = input('Digite senha:')\n",
    "\n",
    "    contador_tentativas += 1\n",
    "    pode_tentar_novamente = contador_tentativas < QTDE_TENTATIVAS_MAX\n",
    "    senha_errada = senha_digitada != SENHA\n",
    "    pode_digitar_senha = senha_errada and pode_tentar_novamente\n",
    "\n",
    "if(not senha_errada):\n",
    "    print('Acertou a senha')\n",
    "else:\n",
    "    print('Errou mais que 3 vezes')\n",
    "\n",
    "print('Fim')"
   ]
  },
  {
   "cell_type": "markdown",
   "metadata": {},
   "source": [
    "**Outro exemplo, onde pedirmos pro usuário digitar sua nota (para ser um valor válido, tem que estar entre 0 e 10!)**"
   ]
  },
  {
   "cell_type": "code",
   "execution_count": null,
   "metadata": {},
   "outputs": [],
   "source": []
  },
  {
   "cell_type": "markdown",
   "metadata": {},
   "source": [
    "## Desafio:\n",
    "\n",
    "Nesse jogo o usuário irá pensar num número inteiro entre 0 e 100, e vamos desenvolver um programa que adivinhe de forma eficiente o número que o usuário pensou! Fantástico!\n",
    "\n",
    "O programa deve imprimir uma pergunta:\n",
    "`O número que você pensou é: {número}`\n",
    "As respostas aceitaveis são `s` ou `n` (sim ou não).  O que fazer se o usuário responder com `si` ou errar e colocar `d` por exemplo?  \n",
    "\n",
    "Caso seja `n` o jogo continua, caso contrário o programa deve imprimir `O número que você pensou é: {número}`\n",
    "\n",
    "O programa deve perguntar:\n",
    "`O número que você pensou é maior ou menor?`\n",
    "As respostas aceitaveis são `maior` ou `menor`. Novamente o que fazer caso o usuário cometa um erro tipográfico?\n"
   ]
  },
  {
   "cell_type": "code",
   "execution_count": null,
   "metadata": {
    "scrolled": true
   },
   "outputs": [],
   "source": []
  },
  {
   "cell_type": "markdown",
   "metadata": {},
   "source": [
    "### Exercício\n",
    "\n",
    "https://wiki.python.org.br/EstruturaDeRepeticao\n",
    "\n",
    "44"
   ]
  }
 ],
 "metadata": {
  "kernelspec": {
   "display_name": "Python 3 (ipykernel)",
   "language": "python",
   "name": "python3"
  },
  "language_info": {
   "codemirror_mode": {
    "name": "ipython",
    "version": 3
   },
   "file_extension": ".py",
   "mimetype": "text/x-python",
   "name": "python",
   "nbconvert_exporter": "python",
   "pygments_lexer": "ipython3",
   "version": "3.10.12"
  }
 },
 "nbformat": 4,
 "nbformat_minor": 4
}
