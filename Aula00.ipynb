{
 "cells": [
  {
   "cell_type": "markdown",
   "metadata": {},
   "source": [
    "# Introdução, Jupyter e variáveis\n",
    "\n",
    "-------------------------\n",
    "Na aula de hoje vamos explorar os seguintes tópicos:  \n",
    "- Introdução: Jupyter e outras IDEs;  \n",
    "- Primeiro programa em Python;  \n",
    "- Variáveis  \n",
    "-------------------------\n",
    "  \n",
    "## Objetivos\n",
    "Nessa aula iremos explorar algumas funcionalidades do Jupyter Notebook, o ambiente de desenvolvimento que utilizaremos neste curso."
   ]
  },
  {
   "cell_type": "markdown",
   "metadata": {},
   "source": [
    "**Alguns sites interessantes para treinar programação:**  \n",
    "[CodeSignal](https://codesignal.com/developers/)  \n",
    "[projecteuler](https://projecteuler.net/)  \n",
    "[CodeWars](https://www.codewars.com/)  \n",
    "[LeetCode](https://leetcode.com/)  \n",
    "[HackerRank](https://www.hackerrank.com/)  \n",
    "\n",
    "**Comunidade de Dados de São Paulo**  \n",
    "PyData SP  \n",
    "- [Meetup](https://www.meetup.com/PyData-Sao-Paulo/)\n",
    "- [YouTube](https://www.youtube.com/channel/UCejuzULiRcqml_DOnY2IFfA)"
   ]
  },
  {
   "cell_type": "markdown",
   "metadata": {},
   "source": [
    "# Instalando o Anaconda\n",
    "O anaconda é uma distribuição das linguagens Python e R para a computação científica, sendo amplamente utilizada no mundo de Data Science (mas não se restringindo apenas a isso). Para instalá-la, baixe a versão mais recente na [página de downloads](https://www.anaconda.com/distribution/) do site. Essa distribuição já contém grande parte dos módulos (bibliotecas) Python que usaremos em aula.\n",
    "\n",
    "O curso também pode ser seguido instalando cada biblioteca manualmente com o `pip`."
   ]
  },
  {
   "cell_type": "markdown",
   "metadata": {},
   "source": [
    "## 1) Introdução: Jupyter\n",
    "\n",
    "#### Alguns atalhos\n",
    "Para usar o Jupyter de forma fluida e rápida, é importante utilizarmos alguns atalhos do teclado.\n",
    "\n",
    "Existem muitos atalhos (eles podem ser consultados no menu acima, em **Help >> Keyboard Shortcuts**), mas os principais utilizados são:\n",
    "- CTRL+ENTER ou SHIFT+ENTER: executa a célula;\n",
    "- ENTER: para entrar em uma célula;\n",
    "- ESC: deixa a célula em modo de comando (azul);\n",
    "- ESC e depois M: transforma a célula em célula de texto (markdown);\n",
    "- ESC e depois Y: transforma a célula em célula de código;\n",
    "- ESC e depois DD: apaga a célula;\n",
    "- ESC e depois A: (ABOVE) - cria uma célula acima da célula atual;\n",
    "- ESC e depois B: (BELOW) - cria uma célula abaixo da célula atual;"
   ]
  },
  {
   "cell_type": "markdown",
   "metadata": {},
   "source": [
    "## 2) Primeiro programa em Python\n",
    "\n",
    "Tradicionalmente, o primeiro programa feito em uma nova linguagem de programação consiste em exibir a frase \"Olá, mundo!\" na tela.\n",
    "\n",
    "Vamos fazer isso em Python?\n",
    "\n",
    "Para isso, basta utilizar a função `print()`, e indicar o texto a ser exibido entre aspas: \"Olá, mundo!\""
   ]
  },
  {
   "cell_type": "code",
   "execution_count": 3,
   "metadata": {},
   "outputs": [
    {
     "name": "stdout",
     "output_type": "stream",
     "text": [
      "Hello World\n"
     ]
    }
   ],
   "source": [
    "print('Hello World')"
   ]
  },
  {
   "cell_type": "markdown",
   "metadata": {},
   "source": [
    "--------------------\n",
    "Parabéns! Seu primeiro programa em Python foi executado com sucesso!\n",
    "\n",
    "Depois vamos falar melhor sobre o print()."
   ]
  },
  {
   "cell_type": "markdown",
   "metadata": {},
   "source": [
    "-------------------\n",
    "Depois vamos falar melhor sobre operações matemáticas em Python, mas podemos exibir o resultado de algumas operações simples usando a funçao print()\n",
    "\n",
    "Note que as instruções são executadas __na ordem em que aparecem!__"
   ]
  },
  {
   "cell_type": "code",
   "execution_count": 2,
   "metadata": {},
   "outputs": [
    {
     "name": "stdout",
     "output_type": "stream",
     "text": [
      "a\n",
      "b\n"
     ]
    }
   ],
   "source": [
    "print('a')\n",
    "print('b')"
   ]
  },
  {
   "cell_type": "markdown",
   "metadata": {},
   "source": [
    "O jupyter nos permite também examinar o valor de uma expressão sem a necessidade de usar o print()\n",
    "\n",
    "Mas note que logo abaixo do código, aparece um \"Out[]\" ou o número da célula que foi executada, o que não acontece quando usamos a função print()\n",
    "\n",
    "Esse é um jeito de \"espiar\" o output das operações do Python de forma direta!"
   ]
  },
  {
   "cell_type": "code",
   "execution_count": 4,
   "metadata": {},
   "outputs": [
    {
     "data": {
      "text/plain": [
       "3"
      ]
     },
     "execution_count": 4,
     "metadata": {},
     "output_type": "execute_result"
    }
   ],
   "source": [
    "1 + 2"
   ]
  },
  {
   "cell_type": "markdown",
   "metadata": {},
   "source": [
    "Outra coisa importante é que o Jupyter só permite examinar o valor da **última** expressão no código:"
   ]
  },
  {
   "cell_type": "code",
   "execution_count": 10,
   "metadata": {},
   "outputs": [
    {
     "data": {
      "text/plain": [
       "7"
      ]
     },
     "execution_count": 10,
     "metadata": {},
     "output_type": "execute_result"
    }
   ],
   "source": [
    "1 + 2\n",
    "3 + 4"
   ]
  },
  {
   "cell_type": "markdown",
   "metadata": {},
   "source": [
    "## 3) Variáveis\n",
    "\n",
    "Seria legal se pudéssemos **guardar** o valor das operações matemáticas que fizemos acima, não é mesmo?\n",
    "\n",
    "Isso é possível com o uso das **variáveis**, que são um pedacinho da memória onde armazenamos as operações do Python\n",
    "\n",
    "\n",
    "Uma variável pode legar qualquer nome, mas existem algumas regras:\n",
    "\n",
    "- O Python **diferencia** maiúscula de minúscula (ex: \"variavel\" é diferente de \"Variavel\", \"VaRiAvEl\" ou \"VARIAVEL\")\n",
    "    - Dica: melhor usar letras minúsculas pra nomes de variáveis\n",
    "- O nome das variáveis **não** pode ter espaço! Use um underline ao invés de espaço: \"minha_variavel\" ao invés de \"minha variavel\"\n",
    "- É melhor que o nome da variável **não** tenha acento (ex: não usar o nome \"variável\")\n",
    "- Existem algumas palavras reservadas do Python, que **não** podem ser usadas como nome de variável, ex: and, or, if, else, lambda, etc.\n",
    "- Também **não** use nome de funções para variáveis (ex: print)\n",
    "- Dica geral: o nome de variavel fica preto em python!\n",
    "    - Se o nome que você for dar ficar colorido, melhor escolher outro nome!"
   ]
  },
  {
   "cell_type": "markdown",
   "metadata": {},
   "source": [
    "<img src=\"data:image/jpeg;base64,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\" />"
   ]
  },
  {
   "cell_type": "code",
   "execution_count": 12,
   "metadata": {},
   "outputs": [
    {
     "name": "stdout",
     "output_type": "stream",
     "text": [
      "<class 'str'>\n",
      "<class 'int'>\n"
     ]
    }
   ],
   "source": [
    "nome = 'Kuma'\n",
    "print(type(nome))\n",
    "nome = 3\n",
    "print(type(nome))"
   ]
  },
  {
   "cell_type": "code",
   "execution_count": 13,
   "metadata": {},
   "outputs": [],
   "source": [
    "# Sensitive Case\n",
    "nome = 'Thiago'\n",
    "Nome = 'Kuma'"
   ]
  },
  {
   "cell_type": "code",
   "execution_count": 14,
   "metadata": {},
   "outputs": [],
   "source": [
    "# Snake Case\n",
    "nome_cliente = 'Thiago Kuma'"
   ]
  },
  {
   "cell_type": "code",
   "execution_count": 15,
   "metadata": {},
   "outputs": [],
   "source": [
    "explicacao = 'Uma variável...'"
   ]
  },
  {
   "cell_type": "code",
   "execution_count": 16,
   "metadata": {},
   "outputs": [],
   "source": [
    "VALOR_QUE_NAO_DEVERIA_SER_MUDADO = 1200"
   ]
  },
  {
   "cell_type": "markdown",
   "metadata": {},
   "source": [
    "### Criando três variaveis\n",
    "\n",
    "Agora, vamos criar três variáveis para armazenar os calores dos cálculos matemáticos\n",
    "\n",
    "__IMPORTANTE (dica): O sinal \"=\" é lido como \"recebe\", pois o que estamos fazendo é guardando o valor da operação matemática no pedacinho de memória com o nome da variável, então o pedacinho de memória recebe o valor indicado depois do sinal de \"=\"__\n",
    "\n",
    "Ou seja, lemos o código a seguir como:\n",
    "\n",
    "- A variável que demos o nome de \"meu_numero\", **recebe** o valor da operação \"2+3\" (que é 5);\n",
    "- A variável que demos o nome de \"variavel\", **recebe** o valor da operação \"1+1\" (que é 2);\n",
    "- A variável que demos o nome de \"x\", **recebe** o valor da operação \"2*3\" (que é 6);\n",
    "\n",
    "O código a seguir apenas cria as variáveis: note que não há nenhum output!"
   ]
  },
  {
   "cell_type": "code",
   "execution_count": null,
   "metadata": {},
   "outputs": [],
   "source": []
  },
  {
   "cell_type": "markdown",
   "metadata": {},
   "source": [
    "Para examinarmos o valor armazenado nas variáveis, podemos, individualmente, \"chamar\" a variável na célula:"
   ]
  },
  {
   "cell_type": "code",
   "execution_count": 17,
   "metadata": {},
   "outputs": [
    {
     "data": {
      "text/plain": [
       "'Thiago'"
      ]
     },
     "execution_count": 17,
     "metadata": {},
     "output_type": "execute_result"
    }
   ],
   "source": [
    "nome"
   ]
  },
  {
   "cell_type": "markdown",
   "metadata": {},
   "source": [
    "Se quisermos exibir o valor das 3 variáveis em seguida, podemos usar o print\n",
    "\n",
    "Note que de fato são exibidos os **valores armazenados nas variáveis!!**"
   ]
  },
  {
   "cell_type": "code",
   "execution_count": 18,
   "metadata": {},
   "outputs": [
    {
     "name": "stdout",
     "output_type": "stream",
     "text": [
      "Thiago\n",
      "Kuma\n",
      "Uma variável...\n"
     ]
    }
   ],
   "source": [
    "print(nome)\n",
    "print(Nome)\n",
    "print(explicacao)"
   ]
  },
  {
   "cell_type": "markdown",
   "metadata": {},
   "source": [
    "Como o próprio nome diz, variáveis podem variar, ou seja, eu posso mudar o valor que tá armazenado na variável.\n",
    "\n",
    "Se, por exemplo, eu quiser que a variável \"x\" passe a receber o valor \"42\", eu faço simplesmente o código a seguir, que é lido como \"a variável x recebe o valor 42\"."
   ]
  },
  {
   "cell_type": "code",
   "execution_count": null,
   "metadata": {},
   "outputs": [],
   "source": []
  },
  {
   "cell_type": "markdown",
   "metadata": {},
   "source": [
    "Pontos importantes para não esquecer:  \n",
    "- Declaração de Variáveis\n",
    "    - snake_case\n",
    "    - case sensitive\n",
    "        - Constantes\n",
    "- Tipos de Dados\n",
    "    - Inteiros (int)\n",
    "    - Ponto flutuante (float)\n",
    "    - Strings (str)\n",
    "    - Booleanos (bool)\n",
    "    - Listas\n",
    "    - Conjuntos (set)    \n",
    "- Escopo de Variáveis"
   ]
  },
  {
   "cell_type": "markdown",
   "metadata": {},
   "source": []
  },
  {
   "cell_type": "markdown",
   "metadata": {},
   "source": [
    "### Input Print"
   ]
  },
  {
   "cell_type": "code",
   "execution_count": 19,
   "metadata": {},
   "outputs": [
    {
     "name": "stdin",
     "output_type": "stream",
     "text": [
      "Nome Thiago\n"
     ]
    }
   ],
   "source": [
    "nome = input('Nome')"
   ]
  },
  {
   "cell_type": "markdown",
   "metadata": {},
   "source": [
    "### Conversão / Cast"
   ]
  },
  {
   "cell_type": "code",
   "execution_count": null,
   "metadata": {},
   "outputs": [],
   "source": []
  },
  {
   "cell_type": "markdown",
   "metadata": {},
   "source": [
    "## Exercícios\n",
    "01. Hello, Name!\n",
    "- Peça ao usuário para digitar seu nome.\n",
    "- Armazene o nome em uma variável.\n",
    "- Imprima uma mensagem de boas-vindas usando essa variável.\n",
    "  \n",
    "02. Conversão de Temperatura\n",
    "- Peça ao usuário para digitar uma temperatura em Fahrenheit.\n",
    "- Converta essa temperatura para Celsius.\n",
    "- Exiba ambas as temperaturas.\n",
    "  \n",
    "03. Operações Matemáticas Básicas\n",
    "- Peça ao usuário para digitar dois números.\n",
    "- Calcule a soma, subtração, multiplicação e divisão desses números.\n",
    "- Mostre os resultados para o usuário.\n",
    "  \n",
    "04. Área do Retângulo\n",
    "- Solicite ao usuário o comprimento e a largura de um retângulo.\n",
    "- Calcule a área do retângulo e exiba o resultado.\n",
    "\n",
    "05. Calculadora de Gorjeta\n",
    "- Peça ao usuário para inserir o valor total de uma conta de restaurante.\n",
    "- Peça ao usuário a porcentagem da gorjeta que ele deseja dar.\n",
    "- Calcule e exiba o valor da gorjeta e o valor total a ser pago.\n",
    "\n",
    "06. Conversor de Moeda\n",
    "- Defina uma taxa de conversão (por exemplo, de dólar para real).\n",
    "- Peça ao usuário para inserir uma quantia em dólares.\n",
    "    Converta essa quantia para reais e exiba o resultado.\n",
    "\n",
    "07. Calculadora de Idade\n",
    "- Pergunte ao usuário o ano atual e o ano em que ele nasceu.\n",
    "- Calcule e exiba a idade do usuário.\n",
    "  \n",
    "08. Cálculo de Juros Simples\n",
    "- Peça ao usuário o principal, a taxa de juros e o tempo (em anos).\n",
    "- Calcule e exiba o juro simples.\n",
    "  \n",
    "09. Preço com Desconto\n",
    "- Solicite ao usuário o preço original de um produto e a porcentagem de desconto.\n",
    "- Calcule e mostre o preço após o desconto.\n",
    "  \n",
    "10. Distância entre Pontos\n",
    "- Peça ao usuário as coordenadas x e y de dois pontos no plano cartesiano.\n",
    "- Calcule e mostre a distância entre esses dois pontos.\n",
    "  \n",
    "11. Cálculo de Média Ponderada\n",
    "- Peça ao usuário para fornecer várias notas e os respectivos pesos.\n",
    "- Calcule a média ponderada com base nas notas e pesos fornecidos.\n",
    "\n",
    "12. Conversor de Tempo\n",
    "- Peça ao usuário para fornecer um número de segundos.\n",
    "- Converta esse número em horas, minutos e segundos.\n",
    "  \n",
    "13. Calculadora de Combustível\n",
    "- Peça ao usuário para inserir a quantidade de litros de combustível no tanque e o consumo médio de seu carro (km/l).\n",
    "- Calcule e mostre quantos quilômetros o carro pode percorrer com o combustível no tanque.\n",
    "  \n",
    "14. Calculadora de IMC\n",
    "- Peça ao usuário para fornecer sua altura em metros e peso em quilogramas.\n",
    "- Calcule o Índice de Massa Corporal (IMC)."
   ]
  }
 ],
 "metadata": {
  "kernelspec": {
   "display_name": "Python 3 (ipykernel)",
   "language": "python",
   "name": "python3"
  },
  "language_info": {
   "codemirror_mode": {
    "name": "ipython",
    "version": 3
   },
   "file_extension": ".py",
   "mimetype": "text/x-python",
   "name": "python",
   "nbconvert_exporter": "python",
   "pygments_lexer": "ipython3",
   "version": "3.10.12"
  }
 },
 "nbformat": 4,
 "nbformat_minor": 4
}
