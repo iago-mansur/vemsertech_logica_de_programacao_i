{
 "cells": [
  {
   "cell_type": "markdown",
   "id": "341a085c",
   "metadata": {},
   "source": [
    "<div style=\"background-color: lightgreen; padding: 18px;\">\n",
    "    <h1> Coding Tank | Vem Ser Tech \n",
    "</div>"
   ]
  },
  {
   "cell_type": "markdown",
   "id": "f0230d44",
   "metadata": {},
   "source": [
    "<div style=\"background-color: lightblue; padding: 10px;\">\n",
    "    <h2> Tópicos da aula - AULA 4\n",
    "</div>\n",
    "\n",
    "- Loop for\n",
    "- Listas\n",
    "- Índices\n",
    "- Iterações de listas\n",
    "- Métodos de listas"
   ]
  },
  {
   "cell_type": "markdown",
   "id": "ddaaaec8",
   "metadata": {},
   "source": [
    "E se quisermos fazer o programa que a pessoa digita 10 números e dizemos o maior, conseguimos?\n",
    "\n",
    "E se quisermos o 2° maior? E se quisermos o 5º? \n",
    "\n",
    "Podemos resolver com **listas**\n",
    "\n",
    "- Listas\n",
    "\n",
    "Listas são coleções de objetos em Python e é expressada em `[]`"
   ]
  },
  {
   "cell_type": "code",
   "execution_count": 10,
   "id": "e626193f",
   "metadata": {
    "ExecuteTime": {
     "end_time": "2023-06-29T00:53:10.121923Z",
     "start_time": "2023-06-29T00:53:10.111155Z"
    }
   },
   "outputs": [
    {
     "name": "stdin",
     "output_type": "stream",
     "text": [
      "Testando...: Strogonoff,30.70,20\n"
     ]
    },
    {
     "name": "stdout",
     "output_type": "stream",
     "text": [
      "<class 'str'>\n"
     ]
    },
    {
     "data": {
      "text/plain": [
       "'Strogonoff,30.70,20'"
      ]
     },
     "execution_count": 10,
     "metadata": {},
     "output_type": "execute_result"
    }
   ],
   "source": [
    "texto_digitado = input('Testando...:')\n",
    "print(type(texto_digitado))\n",
    "texto_digitado"
   ]
  },
  {
   "cell_type": "code",
   "execution_count": 13,
   "id": "b4645927-96f3-41d5-8c21-2d1404122d3c",
   "metadata": {},
   "outputs": [
    {
     "data": {
      "text/plain": [
       "['Strogonoff', '30.70', '20']"
      ]
     },
     "execution_count": 13,
     "metadata": {},
     "output_type": "execute_result"
    }
   ],
   "source": [
    "lista_digitada = texto_digitado.split(',')\n",
    "lista_digitada"
   ]
  },
  {
   "cell_type": "code",
   "execution_count": 14,
   "id": "d8fbcb5f-4f2a-49aa-ac01-30414f90d36b",
   "metadata": {},
   "outputs": [
    {
     "data": {
      "text/plain": [
       "list"
      ]
     },
     "execution_count": 14,
     "metadata": {},
     "output_type": "execute_result"
    }
   ],
   "source": [
    "type(lista_digitada)"
   ]
  },
  {
   "cell_type": "code",
   "execution_count": 15,
   "id": "7f38e48c-0188-459a-b11b-d20a34aed5ca",
   "metadata": {},
   "outputs": [
    {
     "data": {
      "text/plain": [
       "list"
      ]
     },
     "execution_count": 15,
     "metadata": {},
     "output_type": "execute_result"
    }
   ],
   "source": [
    "nova_lista = list()\n",
    "type(nova_lista)"
   ]
  },
  {
   "cell_type": "code",
   "execution_count": 19,
   "id": "331c734d-f80f-4f10-bf98-d24530455716",
   "metadata": {},
   "outputs": [
    {
     "data": {
      "text/plain": [
       "list"
      ]
     },
     "execution_count": 19,
     "metadata": {},
     "output_type": "execute_result"
    }
   ],
   "source": [
    "nova_lista = []\n",
    "type(nova_lista)"
   ]
  },
  {
   "cell_type": "code",
   "execution_count": 20,
   "id": "8bda91d7-ad7f-4d11-812b-f7e6a67cee92",
   "metadata": {},
   "outputs": [
    {
     "data": {
      "text/plain": [
       "list"
      ]
     },
     "execution_count": 20,
     "metadata": {},
     "output_type": "execute_result"
    }
   ],
   "source": [
    "nova_lista = [2, 5, 8]\n",
    "type(nova_lista)"
   ]
  },
  {
   "cell_type": "code",
   "execution_count": 34,
   "id": "2f170c7b-b9bc-4f09-9049-844ffbc32446",
   "metadata": {},
   "outputs": [
    {
     "data": {
      "text/plain": [
       "list"
      ]
     },
     "execution_count": 34,
     "metadata": {},
     "output_type": "execute_result"
    }
   ],
   "source": [
    "nova_lista = eval('[2,5,8]')\n",
    "type(nova_lista)"
   ]
  },
  {
   "cell_type": "code",
   "execution_count": 47,
   "id": "736cb4c0-9b09-4473-8a7c-0c5b1cb64ad3",
   "metadata": {},
   "outputs": [
    {
     "name": "stdout",
     "output_type": "stream",
     "text": [
      "<class 'list'>\n",
      "\n",
      "<class 'str'>\n",
      "<class 'float'>\n",
      "<class 'int'>\n",
      "\n",
      "<class 'list'>\n"
     ]
    }
   ],
   "source": [
    "# Lista Heterogenea\n",
    "# Indice\n",
    "lista_geral = ['Strogonoff', 30.70, 20,['10%', 'Hoje']]\n",
    "print(type(lista_geral))\n",
    "print()\n",
    "print(type(lista_geral[0]))\n",
    "print(type(lista_geral[1]))\n",
    "print(type(lista_geral[2]))\n",
    "print()\n",
    "print(type(lista_geral[3]))\n",
    "print(type(lista_geral[3]))"
   ]
  },
  {
   "cell_type": "code",
   "execution_count": 52,
   "id": "76e38dcc-3c6f-4a1d-82cb-b38559811e8f",
   "metadata": {},
   "outputs": [
    {
     "data": {
      "text/plain": [
       "5"
      ]
     },
     "execution_count": 52,
     "metadata": {},
     "output_type": "execute_result"
    }
   ],
   "source": [
    "nova_lista = [2, 5, 8]\n",
    "item_lista = nova_lista[1]\n",
    "item_lista"
   ]
  },
  {
   "cell_type": "code",
   "execution_count": 53,
   "id": "2cfec6ae-31e1-4e8c-8974-ce6f0dfe7f52",
   "metadata": {},
   "outputs": [
    {
     "data": {
      "text/plain": [
       "[5]"
      ]
     },
     "execution_count": 53,
     "metadata": {},
     "output_type": "execute_result"
    }
   ],
   "source": [
    "nova_lista = [2, [5], 8]\n",
    "item_lista = nova_lista[1]\n",
    "item_lista"
   ]
  },
  {
   "cell_type": "code",
   "execution_count": 54,
   "id": "76143548-4520-4c59-b874-616170dce88a",
   "metadata": {},
   "outputs": [
    {
     "data": {
      "text/plain": [
       "5"
      ]
     },
     "execution_count": 54,
     "metadata": {},
     "output_type": "execute_result"
    }
   ],
   "source": [
    "item_lista[0]"
   ]
  },
  {
   "cell_type": "code",
   "execution_count": 56,
   "id": "92a48199-3ae6-4d03-a00a-75e492a79bac",
   "metadata": {},
   "outputs": [
    {
     "data": {
      "text/plain": [
       "5"
      ]
     },
     "execution_count": 56,
     "metadata": {},
     "output_type": "execute_result"
    }
   ],
   "source": [
    "nova_lista = [2, [5], 8]\n",
    "nova_lista[1][0]"
   ]
  },
  {
   "cell_type": "code",
   "execution_count": 61,
   "id": "8bba1a33-aafe-4a18-b10e-d9d23e879145",
   "metadata": {},
   "outputs": [
    {
     "data": {
      "text/plain": [
       "33"
      ]
     },
     "execution_count": 61,
     "metadata": {},
     "output_type": "execute_result"
    }
   ],
   "source": [
    "# Atualização\n",
    "nova_lista = [2, [5], 8]\n",
    "nova_lista[1] = 33\n",
    "nova_lista[1]"
   ]
  },
  {
   "cell_type": "code",
   "execution_count": 63,
   "id": "0b727d3b-ab49-4c4d-8d14-db2fbe5bee23",
   "metadata": {},
   "outputs": [
    {
     "data": {
      "text/plain": [
       "[2, [5], 8, 33]"
      ]
     },
     "execution_count": 63,
     "metadata": {},
     "output_type": "execute_result"
    }
   ],
   "source": [
    "nova_lista = [2, [5], 8]\n",
    "nova_lista.append(33)\n",
    "nova_lista"
   ]
  },
  {
   "cell_type": "code",
   "execution_count": 64,
   "id": "4d2c3a93-878d-49eb-85ad-cd737229dafb",
   "metadata": {},
   "outputs": [
    {
     "data": {
      "text/plain": [
       "[2, [5, 33], 8]"
      ]
     },
     "execution_count": 64,
     "metadata": {},
     "output_type": "execute_result"
    }
   ],
   "source": [
    "nova_lista = [2, [5], 8]\n",
    "nova_lista[1].append(33)\n",
    "nova_lista"
   ]
  },
  {
   "cell_type": "code",
   "execution_count": 71,
   "id": "12d11ad1-1608-4e31-8ae2-690afbfcf018",
   "metadata": {},
   "outputs": [
    {
     "data": {
      "text/plain": [
       "4"
      ]
     },
     "execution_count": 71,
     "metadata": {},
     "output_type": "execute_result"
    }
   ],
   "source": [
    "# Slice\n",
    "nova_lista = [0, 1, 2, 3, 4]\n",
    "nova_lista[-1]"
   ]
  },
  {
   "cell_type": "code",
   "execution_count": 70,
   "id": "ad253206-0b74-4fe7-9c0d-ba15e897e230",
   "metadata": {},
   "outputs": [
    {
     "data": {
      "text/plain": [
       "3"
      ]
     },
     "execution_count": 70,
     "metadata": {},
     "output_type": "execute_result"
    }
   ],
   "source": [
    "nova_lista = [0, 1, 2, 3, 4]\n",
    "nova_lista[-2]"
   ]
  },
  {
   "cell_type": "code",
   "execution_count": 73,
   "id": "2f81515a-0582-4fc0-aa9c-699d8d4d014d",
   "metadata": {},
   "outputs": [
    {
     "data": {
      "text/plain": [
       "['a', 'b']"
      ]
     },
     "execution_count": 73,
     "metadata": {},
     "output_type": "execute_result"
    }
   ],
   "source": [
    "nova_lista = ['a', 'b', 'c', 'd', 'e']\n",
    "nova_lista[0:2]"
   ]
  },
  {
   "cell_type": "code",
   "execution_count": 74,
   "id": "40bcb857-7346-4480-8fb1-24fffaf56eb3",
   "metadata": {},
   "outputs": [
    {
     "data": {
      "text/plain": [
       "['c']"
      ]
     },
     "execution_count": 74,
     "metadata": {},
     "output_type": "execute_result"
    }
   ],
   "source": [
    "nova_lista = ['a', 'b', 'c', 'd', 'e']\n",
    "nova_lista[2:3]"
   ]
  },
  {
   "cell_type": "markdown",
   "id": "f4bac6d5",
   "metadata": {
    "ExecuteTime": {
     "end_time": "2023-06-29T22:52:13.757377Z",
     "start_time": "2023-06-29T22:52:13.737024Z"
    }
   },
   "source": [
    "Existem várias outras funções/métodos de listas que vocês irão aprender no próximo módulo, como:\n",
    "\n",
    "- append\n",
    "- insert\n",
    "- remove\n",
    "- pop\n",
    "- sort\n",
    "- sorted\n",
    "- reverse\n",
    "- index\n",
    "- max, min, len\n",
    "    "
   ]
  },
  {
   "cell_type": "code",
   "execution_count": 76,
   "id": "21713104-353e-43dc-bcc5-718459b74969",
   "metadata": {},
   "outputs": [
    {
     "data": {
      "text/plain": [
       "[1, 2, 3, 4, 8]"
      ]
     },
     "execution_count": 76,
     "metadata": {},
     "output_type": "execute_result"
    }
   ],
   "source": [
    "nova_lista = [8, 1, 2, 3, 4]\n",
    "nova_lista.sort()\n",
    "nova_lista"
   ]
  },
  {
   "cell_type": "code",
   "execution_count": 77,
   "id": "899e3bdb-c535-4824-904c-37aa3691ec0c",
   "metadata": {},
   "outputs": [
    {
     "data": {
      "text/plain": [
       "[8, 4, 3, 2, 1]"
      ]
     },
     "execution_count": 77,
     "metadata": {},
     "output_type": "execute_result"
    }
   ],
   "source": [
    "nova_lista = [8, 1, 2, 3, 4]\n",
    "nova_lista.sort()\n",
    "nova_lista.reverse()\n",
    "nova_lista"
   ]
  },
  {
   "cell_type": "code",
   "execution_count": 81,
   "id": "5298a86b-4c77-4373-a7d3-01f15a15275e",
   "metadata": {},
   "outputs": [
    {
     "data": {
      "text/plain": [
       "[1, 2, 3, 8, 4]"
      ]
     },
     "execution_count": 81,
     "metadata": {},
     "output_type": "execute_result"
    }
   ],
   "source": [
    "nova_lista = [8, 1, 2, 3, 8, 4]\n",
    "nova_lista.remove(8)\n",
    "nova_lista"
   ]
  },
  {
   "cell_type": "code",
   "execution_count": 84,
   "id": "2da95299-e416-4e10-aed9-09be78ea4e66",
   "metadata": {},
   "outputs": [
    {
     "data": {
      "text/plain": [
       "[8, 1, 2, 3, 4]"
      ]
     },
     "execution_count": 84,
     "metadata": {},
     "output_type": "execute_result"
    }
   ],
   "source": [
    "nova_lista = [8, 1, 2, 3, 8, 4]\n",
    "del nova_lista[4]\n",
    "nova_lista"
   ]
  },
  {
   "cell_type": "code",
   "execution_count": 85,
   "id": "4bacf1e2-be33-4376-b68f-e4cf95050d0d",
   "metadata": {},
   "outputs": [
    {
     "data": {
      "text/plain": [
       "[8, 1, 8, 4]"
      ]
     },
     "execution_count": 85,
     "metadata": {},
     "output_type": "execute_result"
    }
   ],
   "source": [
    "nova_lista = [8, 1, 2, 3, 8, 4]\n",
    "del nova_lista[2:4]\n",
    "nova_lista"
   ]
  },
  {
   "cell_type": "markdown",
   "id": "d9df7da1",
   "metadata": {},
   "source": [
    "**Percorrer a lista**"
   ]
  },
  {
   "cell_type": "markdown",
   "id": "9d63c551",
   "metadata": {},
   "source": [
    "**Maneiras de percorrer uma lista**\n",
    "\n",
    "numeros = [1, 3, 5, 7, 9]\n",
    "\n",
    "- Usando while\n",
    "\n",
    "Pros: Eu sei não só o elemento mas sei o indice também   \n",
    "Contra: Eu preciso controlar o índice\n",
    "\n",
    "```python\n",
    "contador = 0\n",
    "while (contador < len(numeros)):\n",
    "    print(numeros[contador])\n",
    "    contador = contador + 1  Se eu esquecer essa linha vira um loop infinito\n",
    "```\n",
    "\n",
    "\n",
    "- Jeito intermediario: for in range\n",
    "\n",
    "Pros: Sei o indice, não preciso controlar o loop  \n",
    "Contra: Precisa saber usar a função range  \n",
    "range(5) ->  [0, 1, 2, 3, 4]\n",
    "\n",
    "```python\n",
    "numeros = [1, 3, 5, 7, 9]\n",
    "for indice in range(len(numeros)):\n",
    "    print(numeros[indice])\n",
    "```\n",
    "\n",
    "\n",
    "- Usando só for (sem índice)\n",
    "\n",
    "Pros: não preciso me preocupar com o índice e nem com loop  \n",
    "Contra: não sei índice\n",
    "\n",
    "```python\n",
    "numeros = [1, 3, 5, 7, 9]\n",
    "for numero in numeros:        numero é uma especie de variavel temporaria, usamos item, elemento, etc\n",
    "    print(numero)\n",
    "```"
   ]
  },
  {
   "cell_type": "markdown",
   "id": "d9b25c6c",
   "metadata": {},
   "source": [
    "Vamos ver um exemplo:"
   ]
  },
  {
   "cell_type": "code",
   "execution_count": 95,
   "id": "575436e8",
   "metadata": {
    "ExecuteTime": {
     "end_time": "2023-06-29T23:57:04.136886Z",
     "start_time": "2023-06-29T23:57:04.125680Z"
    }
   },
   "outputs": [
    {
     "name": "stdout",
     "output_type": "stream",
     "text": [
      "8\n",
      "1\n",
      "2\n",
      "3\n",
      "8\n",
      "4\n",
      "[33]\n"
     ]
    }
   ],
   "source": [
    "nova_lista = [8, 1, 2, 3, 8, 4, [33]]\n",
    "\n",
    "for item_lista in nova_lista:\n",
    "    # NAO USAR BREAK, se precisar use while\n",
    "    print(item_lista)"
   ]
  },
  {
   "cell_type": "code",
   "execution_count": 88,
   "id": "21b2214e-2166-4406-a15e-ad17e621a7f8",
   "metadata": {},
   "outputs": [
    {
     "name": "stdout",
     "output_type": "stream",
     "text": [
      "8\n",
      "1\n",
      "2\n",
      "3\n",
      "8\n",
      "4\n"
     ]
    }
   ],
   "source": [
    "nova_lista = [8, 1, 2, 3, 8, 4]\n",
    "\n",
    "contador = 0\n",
    "nao_chegou_limite = contador < len(nova_lista)\n",
    "while(nao_chegou_limite):\n",
    "    print(nova_lista[contador])\n",
    "    \n",
    "    contador = contador + 1\n",
    "    nao_chegou_limite = contador < len(nova_lista)"
   ]
  },
  {
   "cell_type": "code",
   "execution_count": 91,
   "id": "77594f39-faf5-4441-b890-43b685827e05",
   "metadata": {},
   "outputs": [
    {
     "data": {
      "text/plain": [
       "[0, 1, 2, 3, 4, 5, 6, 7, 8, 9]"
      ]
     },
     "execution_count": 91,
     "metadata": {},
     "output_type": "execute_result"
    }
   ],
   "source": [
    "list(range(10))"
   ]
  },
  {
   "cell_type": "code",
   "execution_count": 92,
   "id": "cfd000e3-021e-4d67-9700-7e2a72fd22be",
   "metadata": {},
   "outputs": [
    {
     "name": "stdout",
     "output_type": "stream",
     "text": [
      "1\n",
      "3\n",
      "5\n",
      "7\n",
      "9\n"
     ]
    }
   ],
   "source": [
    "numeros = [1, 3, 5, 7, 9]\n",
    "for indice in range(len(numeros)):\n",
    "    print(numeros[indice])"
   ]
  },
  {
   "cell_type": "code",
   "execution_count": 93,
   "id": "b1447e4d-940b-4fce-93c8-51c1e35a5293",
   "metadata": {},
   "outputs": [
    {
     "data": {
      "text/plain": [
       "5"
      ]
     },
     "execution_count": 93,
     "metadata": {},
     "output_type": "execute_result"
    }
   ],
   "source": [
    "# Tenho 5 posições de indices\n",
    "# Tamanho é 5\n",
    "# range começa no zero\n",
    "numeros = [1, 3, 5, 7, 9]\n",
    "len(numeros)"
   ]
  },
  {
   "cell_type": "code",
   "execution_count": 94,
   "id": "03b279ff-bc0c-40af-ba0b-b1ff98b0c47c",
   "metadata": {},
   "outputs": [
    {
     "data": {
      "text/plain": [
       "[0, 1, 2, 3, 4]"
      ]
     },
     "execution_count": 94,
     "metadata": {},
     "output_type": "execute_result"
    }
   ],
   "source": [
    "list(range(5))"
   ]
  },
  {
   "cell_type": "markdown",
   "id": "efb6b72d",
   "metadata": {},
   "source": [
    "**Exercícios**"
   ]
  },
  {
   "cell_type": "markdown",
   "id": "80de8ffc",
   "metadata": {},
   "source": [
    "1. Crie uma lista qualquer e faça um programa que imprima cada elemento da lista usando o for."
   ]
  },
  {
   "cell_type": "code",
   "execution_count": null,
   "id": "4afe9330",
   "metadata": {
    "ExecuteTime": {
     "end_time": "2023-06-30T00:28:06.089625Z",
     "start_time": "2023-06-30T00:28:06.070133Z"
    }
   },
   "outputs": [],
   "source": []
  },
  {
   "cell_type": "markdown",
   "id": "5ba15420",
   "metadata": {},
   "source": [
    "2. Faça um programa que imprima todos os itens de uma lista usando while e compare com o exercício 1.\n",
    "\n"
   ]
  },
  {
   "cell_type": "code",
   "execution_count": null,
   "id": "7e410b03",
   "metadata": {
    "ExecuteTime": {
     "end_time": "2023-06-30T00:32:38.591587Z",
     "start_time": "2023-06-30T00:32:38.581504Z"
    }
   },
   "outputs": [],
   "source": []
  },
  {
   "cell_type": "markdown",
   "id": "b8fc8680",
   "metadata": {},
   "source": [
    "3) Faça um programa que peça para o usuário digitar um número n e imprima uma lista com todos os números de 0 a n-1."
   ]
  },
  {
   "cell_type": "code",
   "execution_count": null,
   "id": "e4c19751",
   "metadata": {
    "ExecuteTime": {
     "end_time": "2023-06-30T00:36:12.335746Z",
     "start_time": "2023-06-30T00:36:10.254113Z"
    }
   },
   "outputs": [],
   "source": []
  },
  {
   "cell_type": "markdown",
   "id": "2a24e132",
   "metadata": {},
   "source": [
    "4. Faça um programa que olhe todos os itens de uma lista e diga quantos deles são pares. "
   ]
  },
  {
   "cell_type": "code",
   "execution_count": null,
   "id": "167af989",
   "metadata": {
    "ExecuteTime": {
     "end_time": "2023-06-30T00:40:26.677401Z",
     "start_time": "2023-06-30T00:40:26.667897Z"
    }
   },
   "outputs": [],
   "source": []
  },
  {
   "cell_type": "markdown",
   "id": "d18b5e09",
   "metadata": {},
   "source": [
    "5. Faça um programa que imprima o maior número de uma lista, sem usar o método max()"
   ]
  },
  {
   "cell_type": "code",
   "execution_count": null,
   "id": "9fca7730",
   "metadata": {
    "ExecuteTime": {
     "end_time": "2023-06-30T00:43:38.103964Z",
     "start_time": "2023-06-30T00:43:38.087649Z"
    }
   },
   "outputs": [],
   "source": []
  },
  {
   "cell_type": "markdown",
   "id": "de77429c",
   "metadata": {},
   "source": [
    "6. Agora usando o método max() faça um programa que imprima os três maiores números de uma lista. "
   ]
  },
  {
   "cell_type": "code",
   "execution_count": null,
   "id": "b7811538",
   "metadata": {
    "ExecuteTime": {
     "end_time": "2023-06-30T00:49:02.203695Z",
     "start_time": "2023-06-30T00:49:02.189583Z"
    }
   },
   "outputs": [],
   "source": []
  },
  {
   "cell_type": "markdown",
   "id": "805a40b8",
   "metadata": {},
   "source": [
    "7. Faça um programa que, dadas duas listas de mesmo tamanho, crie uma nova lista com cada elemento igual a soma dos elementos da lista 1 com os da lista 2, na mesma posição. "
   ]
  },
  {
   "cell_type": "code",
   "execution_count": null,
   "id": "6819a3bd",
   "metadata": {
    "ExecuteTime": {
     "end_time": "2023-06-30T01:01:48.670088Z",
     "start_time": "2023-06-30T01:01:48.649865Z"
    }
   },
   "outputs": [],
   "source": []
  },
  {
   "cell_type": "markdown",
   "id": "d2ee0a79",
   "metadata": {},
   "source": [
    "8. Faça um programa que dadas duas listas de mesmo tamanho, imprima o produto escalar entre elas. "
   ]
  },
  {
   "cell_type": "code",
   "execution_count": null,
   "id": "ccfcd767",
   "metadata": {
    "ExecuteTime": {
     "end_time": "2023-06-30T00:55:17.103825Z",
     "start_time": "2023-06-30T00:55:17.078094Z"
    }
   },
   "outputs": [],
   "source": []
  },
  {
   "cell_type": "markdown",
   "id": "551c234e",
   "metadata": {},
   "source": [
    "9. Faça um programa que pede para o usuário digitar 5 números e, ao final, imprime uma lista com os 5 números digitados pelo usuário (sem converter os números para int ou float). "
   ]
  },
  {
   "cell_type": "code",
   "execution_count": null,
   "id": "1083f943",
   "metadata": {
    "ExecuteTime": {
     "end_time": "2023-06-30T00:58:14.308593Z",
     "start_time": "2023-06-30T00:58:02.724853Z"
    }
   },
   "outputs": [],
   "source": []
  },
  {
   "cell_type": "markdown",
   "id": "437b4b02",
   "metadata": {},
   "source": [
    "10. Pegue a lista gerada no exercício anterior e transforme cada um dos itens dessa lista em um float."
   ]
  },
  {
   "cell_type": "code",
   "execution_count": null,
   "id": "ac33840d",
   "metadata": {
    "ExecuteTime": {
     "end_time": "2023-06-30T00:57:02.197028Z",
     "start_time": "2023-06-30T00:57:02.178601Z"
    }
   },
   "outputs": [],
   "source": []
  },
  {
   "cell_type": "markdown",
   "id": "1f274ced",
   "metadata": {},
   "source": [
    "11. Faça um Programa que peça as 4 notas bimestrais e mostre a média, usando listas."
   ]
  },
  {
   "cell_type": "code",
   "execution_count": null,
   "id": "7211dfca",
   "metadata": {
    "ExecuteTime": {
     "end_time": "2023-06-30T01:00:21.646709Z",
     "start_time": "2023-06-30T01:00:14.613647Z"
    }
   },
   "outputs": [],
   "source": []
  }
 ],
 "metadata": {
  "kernelspec": {
   "display_name": "Python 3 (ipykernel)",
   "language": "python",
   "name": "python3"
  },
  "language_info": {
   "codemirror_mode": {
    "name": "ipython",
    "version": 3
   },
   "file_extension": ".py",
   "mimetype": "text/x-python",
   "name": "python",
   "nbconvert_exporter": "python",
   "pygments_lexer": "ipython3",
   "version": "3.10.12"
  },
  "varInspector": {
   "cols": {
    "lenName": 16,
    "lenType": 16,
    "lenVar": 40
   },
   "kernels_config": {
    "python": {
     "delete_cmd_postfix": "",
     "delete_cmd_prefix": "del ",
     "library": "var_list.py",
     "varRefreshCmd": "print(var_dic_list())"
    },
    "r": {
     "delete_cmd_postfix": ") ",
     "delete_cmd_prefix": "rm(",
     "library": "var_list.r",
     "varRefreshCmd": "cat(var_dic_list()) "
    }
   },
   "types_to_exclude": [
    "module",
    "function",
    "builtin_function_or_method",
    "instance",
    "_Feature"
   ],
   "window_display": false
  }
 },
 "nbformat": 4,
 "nbformat_minor": 5
}
