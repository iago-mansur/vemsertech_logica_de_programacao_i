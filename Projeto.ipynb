{
 "cells": [
  {
   "cell_type": "markdown",
   "id": "b9b5f838",
   "metadata": {},
   "source": [
    "# Projeto final do módulo\n",
    "  \n",
    "O projeto deve ser feito em grupo 5 ou 6 e será apresentado dia 27/10.  \n",
    "Como o projeto será avaliado, o notebook deve conter:  \n",
    "1) Criar uma lista de dicas/técnicas  \n",
    "2) Indicar dentro do notebook cada item da lista(vide exemplo abaixo)  \n",
    "  \n",
    "Esses dois itens são obrigatórios, caso contrário não serão aceitos."
   ]
  },
  {
   "cell_type": "markdown",
   "id": "a0fa206a-4eb4-4226-a548-333ff8901cc1",
   "metadata": {},
   "source": [
    "### 1) Lista de itens\n",
    "1) Estrutura de Repetição, sem operadores condicionais dentro\n",
    "\n",
    "2) Validação utilizando while\n",
    "\n",
    "3) Criação de função\n",
    "\n",
    "4) ... "
   ]
  },
  {
   "cell_type": "markdown",
   "id": "f1e56da3-a87e-4d92-9b26-b83e6df93e2a",
   "metadata": {},
   "source": [
    "### Projeto\n",
    "<pre>  \n",
    "Criar um cadastro de Restaurante/Cardápio:\n",
    "- 'Numero do Restaurante': 1\n",
    "- 'Cadastre o item(Nome), Valor(R$), Tempo para fazer o prato(min) [Vazio Termina Cadastro]': Strogonoff, 25.70, 15\n",
    "\n",
    "Criar um pedido:\n",
    "- 'Numero do Restaurante': 1\n",
    "- '1 - Strogonoff - R$ 25.70 - Tempo: 15 min'\n",
    "- '2 - Parmegiana - R$ 30.50 - Tempo: 20 min'\n",
    "- ...\n",
    "- 'Incluir [Vazio Termina Pedido]': 2\n",
    "- 'Incluir [Vazio Termina Pedido]':     \n",
    "- 'Seu pedido ficou R$ 30.50 e será entregue em 20 min'\n",
    "</pre>"
   ]
  }
 ],
 "metadata": {
  "kernelspec": {
   "display_name": "Python 3 (ipykernel)",
   "language": "python",
   "name": "python3"
  },
  "language_info": {
   "codemirror_mode": {
    "name": "ipython",
    "version": 3
   },
   "file_extension": ".py",
   "mimetype": "text/x-python",
   "name": "python",
   "nbconvert_exporter": "python",
   "pygments_lexer": "ipython3",
   "version": "3.10.12"
  }
 },
 "nbformat": 4,
 "nbformat_minor": 5
}
