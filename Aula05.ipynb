{
 "cells": [
  {
   "cell_type": "markdown",
   "metadata": {},
   "source": [
    "## Funções\n",
    "\n",
    "Até o momento, já vimos diversas funções em Python.\n",
    "\n",
    "- Na primeira aula, tivemos contato com a função `print()`, que exibe um texto na tela;\n",
    "\n",
    "- Depois, aprendemos sobre a função `input()`, que serve pra capturar algo que o usuário digita;\n",
    "\n",
    "- Em seguida, vimos algumas funções aplicada à listas, como a `sorted()`, para ordenar uma lista;\n"
   ]
  },
  {
   "cell_type": "code",
   "execution_count": 1,
   "metadata": {},
   "outputs": [
    {
     "name": "stdout",
     "output_type": "stream",
     "text": [
      "Kuma\n"
     ]
    }
   ],
   "source": [
    "nome = 'Kuma'\n",
    "print(nome)"
   ]
  },
  {
   "cell_type": "code",
   "execution_count": 2,
   "metadata": {},
   "outputs": [
    {
     "name": "stdout",
     "output_type": "stream",
     "text": [
      "[3, 2, 1]\n"
     ]
    }
   ],
   "source": [
    "nova_lista = [1, 2, 3]\n",
    "nova_lista.reverse()\n",
    "print(nova_lista)"
   ]
  },
  {
   "cell_type": "code",
   "execution_count": 3,
   "metadata": {},
   "outputs": [
    {
     "name": "stdout",
     "output_type": "stream",
     "text": [
      "Kuma\n"
     ]
    }
   ],
   "source": [
    "nome = 'Kuma'\n",
    "nome.upper()\n",
    "print(nome)"
   ]
  },
  {
   "cell_type": "code",
   "execution_count": 4,
   "metadata": {},
   "outputs": [
    {
     "name": "stdout",
     "output_type": "stream",
     "text": [
      "KUMA\n"
     ]
    }
   ],
   "source": [
    "nome = 'Kuma'\n",
    "\n",
    "print(nome.upper())"
   ]
  },
  {
   "cell_type": "code",
   "execution_count": 5,
   "metadata": {},
   "outputs": [
    {
     "name": "stdout",
     "output_type": "stream",
     "text": [
      "None\n"
     ]
    }
   ],
   "source": [
    "nova_lista = [1, 2, 3]\n",
    "\n",
    "print(nova_lista.reverse())"
   ]
  },
  {
   "cell_type": "markdown",
   "metadata": {},
   "source": [
    "\n",
    "A intuição sobre funções, então, já nos é familiar:\n",
    "\n",
    "Uma função é um objeto utilizado para **fazer determinadas ações**.\n",
    "\n",
    "Podemos ver uma função como uma \"caixinha\" que pega uma **entrada** (o argumento), faz algum **processamento**, e então **retorna uma saída** (o output)\n",
    "\n",
    "<img src=\"https://s3.amazonaws.com/illustrativemathematics/images/000/000/782/medium/Task_1_8c7a6a9a2e1421586c40f125bd783de3.jpg?1335065782\" width=300>\n",
    "\n",
    "\n",
    "<img src=\"https://1.bp.blogspot.com/_MhOt9n2UJbM/TC6emeqHdqI/AAAAAAAAAiQ/1brsWuWvOC0/s1600/function-machine.png\" width=300>\n"
   ]
  },
  {
   "cell_type": "markdown",
   "metadata": {},
   "source": [
    "Aprenderemos agora como criar **nossas próprias funções** em Python!"
   ]
  },
  {
   "cell_type": "markdown",
   "metadata": {},
   "source": [
    "A estrutura de **definição de uma função** é dada por:\n",
    "\n",
    "```python\n",
    "def nome_da_funcao(argumentos):\n",
    "    \n",
    "    instrucoes\n",
    "    \n",
    "    return saida\n",
    "```"
   ]
  },
  {
   "cell_type": "markdown",
   "metadata": {},
   "source": [
    "Há 5 elementos fundamentais para a criação de novas funções em Python:\n",
    "\n",
    "- Primeiramente, usamos \"def\" para deixar claro que estamos **definindo** uma função;\n",
    "- Depois, damos um **nome** para nossa função;\n",
    "- Em parênteses, falamos quais serão os **argumentos** da função -- esses são os inputs, e em python, esses elementos são opcionais!\n",
    "- Depois, explicitamos qual é o **processamento** feito pela função;\n",
    "- Ao fim, dizemos o que a função irá **retornar** -- esses são os outputs, e em Python esse elemento é opcional!"
   ]
  },
  {
   "cell_type": "markdown",
   "metadata": {},
   "source": [
    "Sempre que quisermos **executar** uma função, basta **chamá-la**, dando os argumentos desejados!\n",
    "\n",
    "```python\n",
    "nome_da_funcao(argumentos)\n",
    "```"
   ]
  },
  {
   "cell_type": "markdown",
   "metadata": {},
   "source": [
    "__Uma função sem argumentos e sem return__\n",
    "\n",
    "Apenas imprime algo na tela, mas sempre A MESMA COISA\n"
   ]
  },
  {
   "cell_type": "code",
   "execution_count": 6,
   "metadata": {},
   "outputs": [],
   "source": [
    "def exibir_hora():\n",
    "    print('21h')"
   ]
  },
  {
   "cell_type": "markdown",
   "metadata": {},
   "source": [
    "__Chamando a função__"
   ]
  },
  {
   "cell_type": "code",
   "execution_count": 7,
   "metadata": {},
   "outputs": [
    {
     "name": "stdout",
     "output_type": "stream",
     "text": [
      "21h\n"
     ]
    }
   ],
   "source": [
    "exibir_hora()"
   ]
  },
  {
   "cell_type": "code",
   "execution_count": 8,
   "metadata": {
    "scrolled": true
   },
   "outputs": [
    {
     "name": "stdout",
     "output_type": "stream",
     "text": [
      "21h\n",
      "None\n"
     ]
    }
   ],
   "source": [
    "print(exibir_hora())"
   ]
  },
  {
   "cell_type": "code",
   "execution_count": 9,
   "metadata": {},
   "outputs": [
    {
     "name": "stdout",
     "output_type": "stream",
     "text": [
      "Kuma\n"
     ]
    }
   ],
   "source": [
    "nome = 'Kuma'\n",
    "nome.upper()\n",
    "print(nome)"
   ]
  },
  {
   "cell_type": "code",
   "execution_count": 10,
   "metadata": {},
   "outputs": [
    {
     "name": "stdout",
     "output_type": "stream",
     "text": [
      "KUMA\n"
     ]
    }
   ],
   "source": [
    "nome = 'Kuma'\n",
    "nome = nome.upper()\n",
    "print(nome)"
   ]
  },
  {
   "cell_type": "code",
   "execution_count": 11,
   "metadata": {},
   "outputs": [
    {
     "name": "stdout",
     "output_type": "stream",
     "text": [
      "None\n"
     ]
    }
   ],
   "source": [
    "nova_lista = [1, 2, 3]\n",
    "nova_lista = nova_lista.reverse()\n",
    "print(nova_lista)"
   ]
  },
  {
   "cell_type": "markdown",
   "metadata": {},
   "source": [
    "__Uma função com argumento, mas sem return__\n",
    "\n",
    "Imprime o que eu mandar na tela, como argumento!"
   ]
  },
  {
   "cell_type": "code",
   "execution_count": 12,
   "metadata": {},
   "outputs": [],
   "source": [
    "def cumprimentar_pessoa(nome):\n",
    "    print(f'Boa noite, {nome}')"
   ]
  },
  {
   "cell_type": "code",
   "execution_count": 13,
   "metadata": {},
   "outputs": [
    {
     "name": "stdout",
     "output_type": "stream",
     "text": [
      "Boa noite, José\n"
     ]
    }
   ],
   "source": [
    "cumprimentar_pessoa('José')"
   ]
  },
  {
   "cell_type": "code",
   "execution_count": 14,
   "metadata": {},
   "outputs": [
    {
     "name": "stdout",
     "output_type": "stream",
     "text": [
      "Boa noite, Kuma\n",
      "None\n"
     ]
    }
   ],
   "source": [
    "print(cumprimentar_pessoa('Kuma'))"
   ]
  },
  {
   "cell_type": "markdown",
   "metadata": {},
   "source": [
    "__Uma função com dois argumentos, mas ainda sem return__\n",
    "\n",
    "Imprime algo na tela, mas dependendo do segundo argumento que eu passar"
   ]
  },
  {
   "cell_type": "code",
   "execution_count": 15,
   "metadata": {},
   "outputs": [],
   "source": [
    "def cumprimentar_pessoa(nome, sobrenome):\n",
    "    print(f'Boa noite, {nome} {sobrenome}')"
   ]
  },
  {
   "cell_type": "code",
   "execution_count": 16,
   "metadata": {},
   "outputs": [
    {
     "name": "stdout",
     "output_type": "stream",
     "text": [
      "Boa noite, Thiago Kuma\n"
     ]
    }
   ],
   "source": [
    "cumprimentar_pessoa('Thiago', 'Kuma')"
   ]
  },
  {
   "cell_type": "markdown",
   "metadata": {},
   "source": [
    "Posso mudar a ordem dos argumentos, mas pra isso devo explicitar exatamente quais são os valores que estou passando para quais argumentos!"
   ]
  },
  {
   "cell_type": "code",
   "execution_count": 17,
   "metadata": {},
   "outputs": [
    {
     "name": "stdout",
     "output_type": "stream",
     "text": [
      "Boa noite, Kuma Thiago\n"
     ]
    }
   ],
   "source": [
    "cumprimentar_pessoa('Kuma', 'Thiago')"
   ]
  },
  {
   "cell_type": "code",
   "execution_count": 18,
   "metadata": {},
   "outputs": [
    {
     "name": "stdout",
     "output_type": "stream",
     "text": [
      "Boa noite, Thiago Kuma\n"
     ]
    }
   ],
   "source": [
    "cumprimentar_pessoa(sobrenome='Kuma', nome='Thiago')"
   ]
  },
  {
   "cell_type": "code",
   "execution_count": 19,
   "metadata": {},
   "outputs": [
    {
     "name": "stdin",
     "output_type": "stream",
     "text": [
      "Digite nome: Kuma\n",
      "Digite sobrenome: Thiago\n"
     ]
    },
    {
     "name": "stdout",
     "output_type": "stream",
     "text": [
      "Boa noite, Kuma Thiago\n"
     ]
    }
   ],
   "source": [
    "nome_digitado = input('Digite nome:')\n",
    "sobrenome_digitado = input('Digite sobrenome:')\n",
    "\n",
    "cumprimentar_pessoa(sobrenome=sobrenome_digitado, nome=nome_digitado)"
   ]
  },
  {
   "cell_type": "code",
   "execution_count": 20,
   "metadata": {},
   "outputs": [],
   "source": [
    "def obter_nome_sobrenome():\n",
    "    nome_digitado = input('Digite nome:')\n",
    "    sobrenome_digitado = input('Digite sobrenome:')\n",
    "    return nome_digitado, sobrenome_digitado"
   ]
  },
  {
   "cell_type": "code",
   "execution_count": 21,
   "metadata": {},
   "outputs": [],
   "source": [
    "def iniciar_aula():\n",
    "    nome_obtido, sobrenome_obtido = obter_nome_sobrenome()\n",
    "    cumprimentar_pessoa(nome_obtido, sobrenome_obtido)"
   ]
  },
  {
   "cell_type": "code",
   "execution_count": 22,
   "metadata": {},
   "outputs": [
    {
     "name": "stdin",
     "output_type": "stream",
     "text": [
      "Digite nome: Thiago\n",
      "Digite sobrenome: Kuma\n"
     ]
    },
    {
     "name": "stdout",
     "output_type": "stream",
     "text": [
      "Boa noite, Thiago Kuma\n"
     ]
    }
   ],
   "source": [
    "iniciar_aula()"
   ]
  },
  {
   "cell_type": "code",
   "execution_count": 23,
   "metadata": {},
   "outputs": [
    {
     "name": "stdin",
     "output_type": "stream",
     "text": [
      "Digite nome: Thiago\n",
      "Digite sobrenome: Kuma\n"
     ]
    },
    {
     "data": {
      "text/plain": [
       "('Thiago', 'Kuma')"
      ]
     },
     "execution_count": 23,
     "metadata": {},
     "output_type": "execute_result"
    }
   ],
   "source": [
    "x = obter_nome_sobrenome()\n",
    "x"
   ]
  },
  {
   "cell_type": "markdown",
   "metadata": {},
   "source": [
    "# Por que utilizar função\n",
    "### Reutilizar o código\n",
    "### Facilitar codificação\n",
    "### Facilitar manutenção\n",
    "### Teste automatizado\n",
    "### Legibilidade do código"
   ]
  },
  {
   "cell_type": "code",
   "execution_count": 113,
   "metadata": {},
   "outputs": [
    {
     "name": "stdout",
     "output_type": "stream",
     "text": [
      "Livro X Tralala...\n",
      ">>>>> Livro Y\n"
     ]
    }
   ],
   "source": [
    "# contexto ou escopo\n",
    "titulo = 'Livro Y'\n",
    "prefacio = 'Tralala...'\n",
    "\n",
    "def testar_contexto(titulo):\n",
    "    print(titulo, prefacio)\n",
    "\n",
    "testar_contexto('Livro X')\n",
    "print(f'>>>>> {titulo}')"
   ]
  },
  {
   "cell_type": "code",
   "execution_count": 114,
   "metadata": {},
   "outputs": [
    {
     "name": "stdout",
     "output_type": "stream",
     "text": [
      "Livro X Tralala...\n",
      ">>>>> Livro X\n"
     ]
    }
   ],
   "source": [
    "# contexto ou escopo\n",
    "titulo = 'Livro Y'\n",
    "prefacio = 'Tralala...'\n",
    "\n",
    "def testar_contexto(titulo):\n",
    "    print(titulo, prefacio)\n",
    "    return titulo\n",
    "\n",
    "titulo = testar_contexto('Livro X')\n",
    "print(f'>>>>> {titulo}')"
   ]
  },
  {
   "cell_type": "code",
   "execution_count": null,
   "metadata": {},
   "outputs": [],
   "source": [
    "# def asdfasdf():\n",
    "#     pass\n",
    "\n",
    "# def lkjlkjl():\n",
    "#     pass"
   ]
  },
  {
   "cell_type": "markdown",
   "metadata": {},
   "source": [
    "____\n",
    "____\n",
    "____"
   ]
  },
  {
   "cell_type": "code",
   "execution_count": 45,
   "metadata": {},
   "outputs": [
    {
     "data": {
      "text/plain": [
       "'456'"
      ]
     },
     "execution_count": 45,
     "metadata": {},
     "output_type": "execute_result"
    }
   ],
   "source": [
    "pessoas = [ \n",
    "            ['Thiago', '123'],\n",
    "            ['Kuma', '456']\n",
    "]\n",
    "pessoas[1][1]"
   ]
  },
  {
   "cell_type": "code",
   "execution_count": 127,
   "metadata": {},
   "outputs": [],
   "source": [
    "def exibir_lista_por_letra(lista_nomes, lista_telefones, letra):\n",
    "    # obter letra\n",
    "    # filtrar, percorrer lista de nomes e pegar o que iniciam com a letra\n",
    "    pass"
   ]
  },
  {
   "cell_type": "code",
   "execution_count": 117,
   "metadata": {},
   "outputs": [],
   "source": [
    "def obter_nome():\n",
    "    return obter_entrada_usuario('nome')"
   ]
  },
  {
   "cell_type": "code",
   "execution_count": 118,
   "metadata": {},
   "outputs": [],
   "source": [
    "def obter_telefone():\n",
    "    return obter_entrada_usuario('telefone')"
   ]
  },
  {
   "cell_type": "code",
   "execution_count": 119,
   "metadata": {},
   "outputs": [],
   "source": [
    "def cadastrar_nome_telefone(lista_nomes, lista_telefones):\n",
    "    nome = obter_nome()\n",
    "    telefone = obter_telefone()\n",
    "\n",
    "    lista_nomes.append(nome)\n",
    "    lista_telefones.append(telefone)\n",
    "\n",
    "    return lista_nomes, lista_telefones"
   ]
  },
  {
   "cell_type": "code",
   "execution_count": 120,
   "metadata": {},
   "outputs": [],
   "source": [
    "def obter_entrada_usuario(entrada):\n",
    "    deve_digitar = True\n",
    "\n",
    "    while(deve_digitar):\n",
    "        item_digitado = input(f'Digite {entrada}:')\n",
    "\n",
    "        deve_digitar = item_digitado == ''"
   ]
  },
  {
   "cell_type": "code",
   "execution_count": 121,
   "metadata": {},
   "outputs": [],
   "source": [
    "def exibir_menu():\n",
    "    print('0 - Sair')\n",
    "    print('1 - Listar tudo')\n",
    "    print('2 - Listar por letra')\n",
    "    print('3 - Cadastrar pessoa')"
   ]
  },
  {
   "cell_type": "code",
   "execution_count": 122,
   "metadata": {},
   "outputs": [],
   "source": [
    "def ler_proxima_acao():\n",
    "    opcoes_validas = [OPCAO_SAIR, OPCAO_EXIBIR_COMPLETO, OPCAO_EXIBIR_LETRA, OPCAO_CADASTRAR]\n",
    "    opcao_valida = False\n",
    "    while(not opcao_valida):\n",
    "        opcao_lida = input('Digite a opção:')\n",
    "        opcao_valida = opcao_lida in opcoes_validas\n",
    "    return opcao_lida"
   ]
  },
  {
   "cell_type": "code",
   "execution_count": 123,
   "metadata": {},
   "outputs": [],
   "source": [
    "def obter_acao_usuario():\n",
    "    exibir_menu()\n",
    "    proxima_acao = ler_proxima_acao()\n",
    "    return proxima_acao"
   ]
  },
  {
   "cell_type": "code",
   "execution_count": 124,
   "metadata": {},
   "outputs": [],
   "source": [
    "def exibir_lista_completa(lista_nomes, lista_telefones):\n",
    "    cont = 0\n",
    "    continuar_exibir = cont < len(lista_nomes)\n",
    "    while(continuar_exibir):\n",
    "        print(f'{lista_nomes[cont]} - {lista_telefones[cont]}')\n",
    "        cont += 1\n",
    "        continuar_exibir = cont < len(lista_nomes)"
   ]
  },
  {
   "cell_type": "code",
   "execution_count": 125,
   "metadata": {},
   "outputs": [
    {
     "name": "stdout",
     "output_type": "stream",
     "text": [
      "0 - Sair\n",
      "1 - Listar tudo\n",
      "2 - Listar por letra\n",
      "3 - Cadastrar pessoa\n"
     ]
    },
    {
     "name": "stdin",
     "output_type": "stream",
     "text": [
      "Digite a opção: 3\n",
      "Digite nome: Thiago\n",
      "Digite telefone: 123\n"
     ]
    },
    {
     "name": "stdout",
     "output_type": "stream",
     "text": [
      "0 - Sair\n",
      "1 - Listar tudo\n",
      "2 - Listar por letra\n",
      "3 - Cadastrar pessoa\n"
     ]
    },
    {
     "name": "stdin",
     "output_type": "stream",
     "text": [
      "Digite a opção: 1\n"
     ]
    },
    {
     "name": "stdout",
     "output_type": "stream",
     "text": [
      "None - None\n",
      "0 - Sair\n",
      "1 - Listar tudo\n",
      "2 - Listar por letra\n",
      "3 - Cadastrar pessoa\n"
     ]
    },
    {
     "name": "stdin",
     "output_type": "stream",
     "text": [
      "Digite a opção: 0\n"
     ]
    }
   ],
   "source": [
    "lista_nomes = []\n",
    "lista_telefones = []\n",
    "\n",
    "OPCAO_SAIR = '0'\n",
    "OPCAO_EXIBIR_COMPLETO = '1'\n",
    "OPCAO_EXIBIR_LETRA = '2'\n",
    "OPCAO_CADASTRAR = '3'\n",
    "\n",
    "continuar_rodar_programa = True\n",
    "while(continuar_rodar_programa):\n",
    "    proxima_acao = obter_acao_usuario()\n",
    "\n",
    "    proxima_acao_cadastrar = proxima_acao == OPCAO_CADASTRAR\n",
    "    proxima_acao_exibir_tudo = proxima_acao == OPCAO_EXIBIR_COMPLETO\n",
    "    proxima_acao_exibir_letra = proxima_acao == OPCAO_EXIBIR_LETRA\n",
    "    \n",
    "    if(proxima_acao_cadastrar):\n",
    "        lista_nomes, lista_telefones = cadastrar_nome_telefone(lista_nomes, lista_telefones)\n",
    "    elif(proxima_acao_exibir_tudo):\n",
    "        exibir_lista_completa(lista_nomes, lista_telefones)\n",
    "    elif(proxima_acao_exibir_letra):\n",
    "        exibir_lista_por_letra(lista_nomes, lista_telefones, letra)\n",
    "\n",
    "    continuar_rodar_programa = proxima_acao != OPCAO_SAIR"
   ]
  },
  {
   "cell_type": "code",
   "execution_count": 46,
   "metadata": {},
   "outputs": [
    {
     "name": "stdout",
     "output_type": "stream",
     "text": [
      "Thiago - 123\n",
      "Kuma - 456\n",
      "Thiago - 123\n",
      "Thiago - 123\n",
      "Kuma - 456\n"
     ]
    }
   ],
   "source": [
    "# Teste exibir lista completa\n",
    "# Teste vazio\n",
    "exibir_lista_completa()\n",
    "\n",
    "# Teste 1 elemento\n",
    "lista_nomes = ['Thiago']\n",
    "lista_telefones = ['123']\n",
    "\n",
    "exibir_lista_completa()\n",
    "\n",
    "# Teste mais 2 elemento\n",
    "lista_nomes = ['Thiago', 'Kuma']\n",
    "lista_telefones = ['123', '456']\n",
    "\n",
    "exibir_lista_completa()"
   ]
  },
  {
   "cell_type": "code",
   "execution_count": null,
   "metadata": {},
   "outputs": [],
   "source": [
    "# Pode usar mais de uma return dentro da função?\n",
    "### Não deveria\n",
    "### Caso que é legal usar: Guard Clause, por que diminui um nível de aninhamento"
   ]
  },
  {
   "cell_type": "code",
   "execution_count": null,
   "metadata": {},
   "outputs": [],
   "source": [
    "# Exemplo de reutilização de código\n",
    "# Linha 10\n",
    "# while(sfafasdf)\n",
    "#     if(continuar_estudando)\n",
    "# ...\n",
    "# Linha 90\n",
    "# while(0808094)\n",
    "#     if(continuar_estudando)\n",
    "\n",
    "# ^^^^^^^^^^^^^^^^^^^^^^^^^^^^^^^^^^^^^^^^^^\n",
    "# Linha 10\n",
    "# tralala(sfafasdf, continuar_estudando)\n",
    "# ...\n",
    "# tralala(0808094, continuar_estudando)\n",
    "        \n",
    "# def tralala(controle, continuar_estudando):\n",
    "#     while(0808094)\n",
    "#         if(continuar_estudando)\n",
    "\n",
    "\n",
    "# # Teste automatizado\n",
    "# tralala(True, False)\n",
    "# tralala(True, True)\n",
    "# tralala(False, True)\n",
    "# tralala(False, False)"
   ]
  },
  {
   "cell_type": "markdown",
   "metadata": {},
   "source": [
    "## Arquivos\n",
    "#### Leitura de arquivos  "
   ]
  },
  {
   "cell_type": "code",
   "execution_count": null,
   "metadata": {},
   "outputs": [],
   "source": []
  },
  {
   "cell_type": "markdown",
   "metadata": {},
   "source": [
    "#### Escrita de arquivos"
   ]
  },
  {
   "cell_type": "code",
   "execution_count": null,
   "metadata": {},
   "outputs": [],
   "source": []
  }
 ],
 "metadata": {
  "kernelspec": {
   "display_name": "Python 3 (ipykernel)",
   "language": "python",
   "name": "python3"
  },
  "language_info": {
   "codemirror_mode": {
    "name": "ipython",
    "version": 3
   },
   "file_extension": ".py",
   "mimetype": "text/x-python",
   "name": "python",
   "nbconvert_exporter": "python",
   "pygments_lexer": "ipython3",
   "version": "3.10.12"
  },
  "varInspector": {
   "cols": {
    "lenName": 16,
    "lenType": 16,
    "lenVar": 40
   },
   "kernels_config": {
    "python": {
     "delete_cmd_postfix": "",
     "delete_cmd_prefix": "del ",
     "library": "var_list.py",
     "varRefreshCmd": "print(var_dic_list())"
    },
    "r": {
     "delete_cmd_postfix": ") ",
     "delete_cmd_prefix": "rm(",
     "library": "var_list.r",
     "varRefreshCmd": "cat(var_dic_list()) "
    }
   },
   "types_to_exclude": [
    "module",
    "function",
    "builtin_function_or_method",
    "instance",
    "_Feature"
   ],
   "window_display": false
  }
 },
 "nbformat": 4,
 "nbformat_minor": 4
}
